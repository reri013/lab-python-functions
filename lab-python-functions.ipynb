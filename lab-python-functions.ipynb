{
 "cells": [
  {
   "cell_type": "markdown",
   "id": "25d7736c-ba17-4aff-b6bb-66eba20fbf4e",
   "metadata": {},
   "source": [
    "# Lab | Functions"
   ]
  },
  {
   "cell_type": "markdown",
   "id": "0c581062-8967-4d93-b06e-62833222f930",
   "metadata": {
    "tags": []
   },
   "source": [
    "## Exercise: Managing Customer Orders with Functions\n",
    "\n",
    "In the previous exercise, you improved the code for managing customer orders by using loops and flow control. Now, let's take it a step further and refactor the code by introducing functions.\n",
    "\n",
    "Follow the steps below to complete the exercise:\n",
    "\n",
    "1. Define a function named `initialize_inventory` that takes `products` as a parameter. Inside the function, implement the code for initializing the inventory dictionary using a loop and user input.\n",
    "\n",
    "2. Define a function named `get_customer_orders` that takes no parameters. Inside the function, implement the code for prompting the user to enter the product names using a loop. The function should return the `customer_orders` set.\n",
    "\n",
    "3. Define a function named `update_inventory` that takes `customer_orders` and `inventory` as parameters. Inside the function, implement the code for updating the inventory dictionary based on the customer orders.\n",
    "\n",
    "4. Define a function named `calculate_order_statistics` that takes `customer_orders` and `products` as parameters. Inside the function, implement the code for calculating the order statistics (total products ordered, and percentage of unique products ordered). The function should return these values.\n",
    "\n",
    "5. Define a function named `print_order_statistics` that takes `order_statistics` as a parameter. Inside the function, implement the code for printing the order statistics.\n",
    "\n",
    "6. Define a function named `print_updated_inventory` that takes `inventory` as a parameter. Inside the function, implement the code for printing the updated inventory.\n",
    "\n",
    "7. Call the functions in the appropriate sequence to execute the program and manage customer orders.\n",
    "\n",
    "Hints for functions:\n",
    "\n",
    "- Consider the input parameters required for each function and their return values.\n",
    "- Utilize function parameters and return values to transfer data between functions.\n",
    "- Test your functions individually to ensure they work correctly.\n",
    "\n",
    "\n"
   ]
  },
  {
   "cell_type": "code",
   "execution_count": 48,
   "id": "8db6986a",
   "metadata": {},
   "outputs": [
    {
     "name": "stdout",
     "output_type": "stream",
     "text": [
      "{'chocolat', 'mug', 'hat'}\n",
      "the order statistics \n",
      "the total ordered is :  3\n",
      "percentage of product ordered:  60.0\n",
      "the quantity of  t-shirt is :  2\n",
      "the quantity of  mug is :  1\n",
      "the quantity of  hat is :  1\n",
      "the quantity of  book is :  2\n",
      "the quantity of  keychain is :  2\n"
     ]
    }
   ],
   "source": [
    "# 1. Define a function named `initialize_inventory` that takes `products` as a parameter. Inside the function, implement the code for initializing /\n",
    "# the inventory dictionary using a loop and user input.\n",
    "\n",
    "def initialize_inventory (products): \n",
    "    inventory = {}\n",
    "    for produit  in products :\n",
    "        quantity = int (input (f\" add number of {produit}\"))\n",
    "        inventory [produit] = quantity\n",
    "    return inventory\n",
    "\n",
    "# 2. Define a function named `get_customer_orders` that takes no parameters. Inside the function, implement the code for prompting the user to enter the product names \\\n",
    "    # using a loop. The function should return the `customer_orders` set.\n",
    "\n",
    "def get_customer_order ():\n",
    "    customer_orders = set ()\n",
    "    add_another = input(\"Do you want to add another product? (yes/no): \")\n",
    "    while  add_another.lower() == \"yes\" : \n",
    "        product_name = input(\"enter the name of the product: \")\n",
    "        customer_orders.add(product_name)\n",
    "        add_another = input(\"Do you want to add another product? (yes/no): \")\n",
    "    return customer_orders\n",
    "\n",
    " #3. Define a function named `update_inventory` hat takes `customer_orders` and `inventory` as parameters. Inside the function, implement the code for updating /\n",
    "# the inventory dictionary based on the customer orders.\n",
    "\n",
    "def update_inventory (customer_orders,inventory ): \n",
    "    for product  in customer_orders :\n",
    "        if product in inventory :\n",
    "            inventory [ product] -=1\n",
    "    return inventory\n",
    "            \n",
    "            \n",
    "# 4. Define a function named `calculate_order_statistics` that takes `customer_orders` and `products` as parameters. Inside the function, implement the code for / \n",
    "# calculating the order statistics (total products ordered, and percentage of unique products ordered). /\n",
    "# The function should return these values.\n",
    "\n",
    "def calculate_order_statistics (customer_order,products ) : \n",
    "    total_ordered = len (customer_order)\n",
    "    percentage_ordered = (total_ordered / len(products)) * 100 \n",
    "    return total_ordered , percentage_ordered\n",
    "\n",
    "#5. Define a function named `print_order_statistics` that takes `order_statistics` as a parameter. Inside the function, implement the code for printing the order statistics.\n",
    "def print_order_statistics (order_statistics) : \n",
    "    print (\"the order statistics \")\n",
    "    print (\"the total ordered is : \", order_statistics[0])\n",
    "    print (\"percentage of product ordered: \", order_statistics[1])\n",
    "\n",
    "#6. Define a function named `print_updated_inventory` that takes `inventory` as a parameter. Inside the function, implement the code for printing the updated inventory.\n",
    "def print_updated_inventory (inventory) :\n",
    "    for product, quantity in inventory.items():\n",
    "        print (\"the quantity of \", product , \"is : \", quantity)\n",
    "\n",
    "        \n",
    "#7. Call the functions in the appropriate sequence to execute the program and manage customer orders.\n",
    "\n",
    "products1 = [\"t-shirt\", \"mug\", \"hat\", \"book\", \"keychain\"]\n",
    "\n",
    "inventory1 = initialize_inventory(products1)\n",
    "customer_orders1 = get_customer_order ()\n",
    "print(customer_orders1 )\n",
    "inventory1 = update_inventory(customer_orders1, inventory1)\n",
    "statistic_order1=  calculate_order_statistics( customer_orders1, products1)\n",
    "print_order_statistics (statistic_order1)\n",
    "print_updated_inventory (inventory1)"
   ]
  },
  {
   "cell_type": "markdown",
   "id": "83ea36aa",
   "metadata": {},
   "source": []
  }
 ],
 "metadata": {
  "kernelspec": {
   "display_name": "Python 3 (ipykernel)",
   "language": "python",
   "name": "python3"
  },
  "language_info": {
   "codemirror_mode": {
    "name": "ipython",
    "version": 3
   },
   "file_extension": ".py",
   "mimetype": "text/x-python",
   "name": "python",
   "nbconvert_exporter": "python",
   "pygments_lexer": "ipython3",
   "version": "3.12.1"
  }
 },
 "nbformat": 4,
 "nbformat_minor": 5
}
